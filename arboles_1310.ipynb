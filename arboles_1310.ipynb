{
  "nbformat": 4,
  "nbformat_minor": 0,
  "metadata": {
    "colab": {
      "name": "arboles_1310.ipynb",
      "provenance": [],
      "collapsed_sections": [],
      "authorship_tag": "ABX9TyMV08sZY1/Iw+/s9m/7LQwp",
      "include_colab_link": true
    },
    "kernelspec": {
      "name": "python3",
      "display_name": "Python 3"
    },
    "language_info": {
      "name": "python"
    }
  },
  "cells": [
    {
      "cell_type": "markdown",
      "metadata": {
        "id": "view-in-github",
        "colab_type": "text"
      },
      "source": [
        "<a href=\"https://colab.research.google.com/github/CarlosGarMon/Ejercicio_arbol_binario/blob/main/arboles_1310.ipynb\" target=\"_parent\"><img src=\"https://colab.research.google.com/assets/colab-badge.svg\" alt=\"Open In Colab\"/></a>"
      ]
    },
    {
      "cell_type": "code",
      "metadata": {
        "id": "rKYlOxx6CPQo"
      },
      "source": [
        "class NodoBinario:\n",
        "    def __init__( self, value, left = None, right = None ):\n",
        "        self.data = value\n",
        "        self.left = left \n",
        "        self.right = right \n",
        "\n",
        "class NodoTernario: \n",
        "    def __init__( self, value, left = None, center = None, right = None ):\n",
        "        self.data = value\n",
        "        self.left = left \n",
        "        self.center = center \n",
        "        self.right = right "
      ],
      "execution_count": null,
      "outputs": []
    },
    {
      "cell_type": "code",
      "metadata": {
        "colab": {
          "base_uri": "https://localhost:8080/"
        },
        "id": "4el225NzD0j9",
        "outputId": "59957d63-538a-4445-bd96-6f0fb66b0f72"
      },
      "source": [
        "arbol1 = NodoBinario( \"R\", NodoBinario(\"C\"), NodoBinario(\"H\"))\n",
        "print(arbol1.right.data)\n",
        "\n",
        "arbol2 = NodoTernario( 4, NodoTernario(3, NodoTernario(5, left = NodoTernario(2) ), NodoTernario(5), NodoTernario(2) ), None, NodoTernario(5) )\n",
        "print(arbol2.left.right.data)\n",
        "print(arbol2.data)\n",
        "print(arbol2.left.center.data)\n",
        "print(arbol2.right.left)\n",
        "print(arbol2.left.left.left.data)\n",
        "\n",
        "print(\"---- Sin usar la palabra left en el print ----\")\n",
        "\n",
        "ejemplo = arbol2.left.left.left.data\n",
        "print(ejemplo)\n",
        "\n",
        "print(\"--- Otra forma ---\")\n",
        "aux = arbol2 \n",
        "while( aux. left != None ):\n",
        "    aux = aux.left\n",
        "print(aux.data)\n",
        "\n",
        "root = NodoBinario(\"Santi\",None,NodoBinario(\"Jesus\",NodoBinario(\"Pedro\",None,NodoBinario(\"Pedro Jr.\"))))\n",
        "print(root.right.left.right.data)"
      ],
      "execution_count": null,
      "outputs": [
        {
          "output_type": "stream",
          "name": "stdout",
          "text": [
            "H\n",
            "2\n",
            "4\n",
            "5\n",
            "None\n",
            "2\n",
            "---- Sin usar la palabra left en el print ----\n",
            "2\n",
            "--- Otra forma ---\n",
            "2\n",
            "Pedro Jr.\n"
          ]
        }
      ]
    },
    {
      "cell_type": "code",
      "metadata": {
        "id": "2d_9GLQ82Uxu"
      },
      "source": [
        "class NodoBinario:\n",
        "    def __init__( self, value, left = None, right = None ):\n",
        "        self.data = value\n",
        "        self.left = left \n",
        "        self.right = right \n",
        "\n",
        "class BinarySearchTree:\n",
        "    def __init__( self ):\n",
        "        self.root = None\n",
        "\n",
        "    def insert( self, value ):\n",
        "        if self.root == None: \n",
        "            self.root = NodoBinario( value )\n",
        "\n",
        "        else:\n",
        "            self.__insert_nodo( self.root, value )\n",
        "\n",
        "    def __insert_nodo( self, nodo, value):\n",
        "        if nodo.data == value:\n",
        "            pass\n",
        "        elif value < nodo.data: #Si se cumple, ir a la izquierda\n",
        "            if nodo.left == None:\n",
        "                nodo.left = NodoBinario( value ) \n",
        "            else:\n",
        "                self.__insert_nodo( nodo.left, value )\n",
        "\n",
        "        else: #Si no se cumplió, ir a la derecha\n",
        "            if nodo.right == None:\n",
        "                nodo.right = NodoBinario( value ) \n",
        "            else:\n",
        "                self.__insert_nodo( nodo.right, value )\n",
        "\n",
        "    def transversal( self, formato = \"posorden\"):\n",
        "        if formato == \"posorden\":\n",
        "            self.recorrido_pos( self.root )\n",
        "\n",
        "        elif formato == \"preorden\":\n",
        "            self.recorrido_pre( self.root )\n",
        "        else: #inorden\n",
        "            self.recorrido_in( self.root )\n",
        "        print()\n",
        "\n",
        "    def recorrido_pos( self, nodo ):\n",
        "        if nodo != None:\n",
        "            self.recorrido_pos( nodo.left )\n",
        "            self.recorrido_pos( nodo.right )\n",
        "            print( str(nodo.data), end= \" , \" )\n",
        "\n",
        "    def recorrido_pre( self, nodo ):\n",
        "        if nodo != None:\n",
        "            print( str(nodo.data), end= \" , \" )\n",
        "            self.recorrido_pre( nodo.left )\n",
        "            self.recorrido_pre( nodo.right )\n",
        "    \n",
        "    def recorrido_in( self, nodo ):\n",
        "        if nodo != None:\n",
        "            self.recorrido_in( nodo.left )\n",
        "            print( str(nodo.data), end= \" , \" )\n",
        "            self.recorrido_in( nodo.right )\n",
        "\n",
        "    def search( self, value ):\n",
        "        if self.root == None:\n",
        "            print(\"El árbol está vacío\")\n",
        "            return None \n",
        "        else:\n",
        "            self.__search( self.root, value )\n",
        "    \n",
        "    def __search( self, nodo, value ):\n",
        "        if nodo == None:\n",
        "            print(\"El dato no existe en el árbol\")\n",
        "            return None\n",
        "        elif nodo.data == value:\n",
        "            print(f\"Encontrado --> {nodo.data}\")\n",
        "            return nodo \n",
        "        elif value < nodo.data:\n",
        "            return self.__search( nodo.left, value )\n",
        "        else:\n",
        "            return self.__search( nodo.right, value )\n"
      ],
      "execution_count": 30,
      "outputs": []
    },
    {
      "cell_type": "code",
      "metadata": {
        "colab": {
          "base_uri": "https://localhost:8080/"
        },
        "id": "MJ9tKnwA8M1v",
        "outputId": "714e01fc-b78b-496b-af6c-77b11bc3dcf1"
      },
      "source": [
        "arb1 = BinarySearchTree()\n",
        "arb1.insert(60)\n",
        "arb1.insert(30)\n",
        "arb1.insert(15)\n",
        "arb1.insert(40)\n",
        "arb1.transversal(\"posorden\")\n",
        "arb1.transversal(\"preorden\")\n",
        "arb1.transversal(\"inorden\")\n",
        "arb1.search(15)\n",
        "arb1.search(100)"
      ],
      "execution_count": 31,
      "outputs": [
        {
          "output_type": "stream",
          "name": "stdout",
          "text": [
            "15 , 40 , 30 , 60 , \n",
            "60 , 30 , 15 , 40 , \n",
            "15 , 30 , 40 , 60 , \n",
            "Encontrado --> 15\n",
            "El dato no existe en el árbol\n"
          ]
        }
      ]
    }
  ]
}